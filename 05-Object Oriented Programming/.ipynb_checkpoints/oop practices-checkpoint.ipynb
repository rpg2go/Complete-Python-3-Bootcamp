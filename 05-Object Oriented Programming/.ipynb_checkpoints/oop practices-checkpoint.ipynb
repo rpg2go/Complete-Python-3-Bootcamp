{
 "cells": [
  {
   "cell_type": "code",
   "execution_count": 54,
   "metadata": {},
   "outputs": [],
   "source": [
    "class Dog():\n",
    "    \n",
    "    # class object attribute\n",
    "    # same for any instance of the class\n",
    "    species = \"mammal\"\n",
    "    \n",
    "    def __init__(self, breed, name,spots):\n",
    "        \n",
    "        # attributes -> assigned it using self.attribute_name\n",
    "        self.breed = breed\n",
    "        self.name = name\n",
    "        \n",
    "        self.spots = spots\n",
    "        \n",
    "    # operations / actions \n",
    "    # methods - > functions inside of a class\n",
    "    def bark(self, number):\n",
    "        print(\"Woof! My name is {} and the number\".format(self.name, number))\n",
    "        "
   ]
  },
  {
   "cell_type": "code",
   "execution_count": 55,
   "metadata": {},
   "outputs": [],
   "source": [
    "my_dog1 = Dog(breed=\"Lab\", name=\"Sammy\", spots=\"False\")"
   ]
  },
  {
   "cell_type": "code",
   "execution_count": 56,
   "metadata": {},
   "outputs": [],
   "source": [
    "my_dog2 = Dog(breed=\"Husky\", name=\"Azorel\", spots=\"True\")"
   ]
  },
  {
   "cell_type": "code",
   "execution_count": 50,
   "metadata": {},
   "outputs": [
    {
     "data": {
      "text/plain": [
       "__main__.Dog"
      ]
     },
     "execution_count": 50,
     "metadata": {},
     "output_type": "execute_result"
    }
   ],
   "source": [
    "type(my_dog1)"
   ]
  },
  {
   "cell_type": "code",
   "execution_count": 59,
   "metadata": {},
   "outputs": [
    {
     "name": "stdout",
     "output_type": "stream",
     "text": [
      "Lab -> Sammy : False => mammal\n"
     ]
    }
   ],
   "source": [
    "print(my_dog1.breed + \" -> \" + my_dog1.name + \" : \" + my_dog1.spots + \" => \" + my_dog1.species)"
   ]
  },
  {
   "cell_type": "code",
   "execution_count": 60,
   "metadata": {},
   "outputs": [
    {
     "name": "stdout",
     "output_type": "stream",
     "text": [
      "Husky -> Azorel : False => mammal\n"
     ]
    }
   ],
   "source": [
    "print(my_dog2.breed + \" -> \" + my_dog2.name + \" : \" + my_dog1.spots + \" => \" + my_dog1.species)"
   ]
  },
  {
   "cell_type": "code",
   "execution_count": 43,
   "metadata": {},
   "outputs": [
    {
     "data": {
      "text/plain": [
       "'mammal'"
      ]
     },
     "execution_count": 43,
     "metadata": {},
     "output_type": "execute_result"
    }
   ],
   "source": [
    "my_dog1.species"
   ]
  },
  {
   "cell_type": "code",
   "execution_count": 57,
   "metadata": {},
   "outputs": [
    {
     "name": "stdout",
     "output_type": "stream",
     "text": [
      "Woof! My name is Sammy\n"
     ]
    }
   ],
   "source": [
    "my_dog1.bark()"
   ]
  },
  {
   "cell_type": "code",
   "execution_count": 58,
   "metadata": {},
   "outputs": [
    {
     "name": "stdout",
     "output_type": "stream",
     "text": [
      "Woof! My name is Azorel\n"
     ]
    }
   ],
   "source": [
    "my_dog2.bark()"
   ]
  },
  {
   "cell_type": "code",
   "execution_count": null,
   "metadata": {},
   "outputs": [],
   "source": []
  }
 ],
 "metadata": {
  "kernelspec": {
   "display_name": "Python 3",
   "language": "python",
   "name": "python3"
  },
  "language_info": {
   "codemirror_mode": {
    "name": "ipython",
    "version": 3
   },
   "file_extension": ".py",
   "mimetype": "text/x-python",
   "name": "python",
   "nbconvert_exporter": "python",
   "pygments_lexer": "ipython3",
   "version": "3.8.5"
  }
 },
 "nbformat": 4,
 "nbformat_minor": 4
}
